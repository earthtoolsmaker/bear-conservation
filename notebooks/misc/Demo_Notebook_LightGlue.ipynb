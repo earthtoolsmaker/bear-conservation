version https://git-lfs.github.com/spec/v1
oid sha256:94b99e194567a24b52851a30fff7b081921461ad8a634d94e1bd278e52e5d318
size 1005212
