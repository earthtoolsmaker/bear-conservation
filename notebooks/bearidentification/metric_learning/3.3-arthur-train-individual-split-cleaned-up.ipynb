version https://git-lfs.github.com/spec/v1
oid sha256:00c19916ea274b6e9253d01964806f5d12a4527b28a566f511aeac7e7091d0d6
size 1952828
