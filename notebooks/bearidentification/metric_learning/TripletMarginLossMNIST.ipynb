version https://git-lfs.github.com/spec/v1
oid sha256:2dcad833d8c5c003c18a0c03e62f80ef2c69697a17ddd6781d6443df6051d5c8
size 62088
