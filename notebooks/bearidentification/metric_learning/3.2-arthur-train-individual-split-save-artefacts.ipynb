version https://git-lfs.github.com/spec/v1
oid sha256:1e7cafec1278c323192c84bb68168aaac3129fd63db4b24d7371fc248d892dc8
size 2011707
