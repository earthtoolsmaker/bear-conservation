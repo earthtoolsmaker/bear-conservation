version https://git-lfs.github.com/spec/v1
oid sha256:271dea6cf637fa54ca978d153ba6be200eb0476758b258ff5d916c426880eb2c
size 1140261
