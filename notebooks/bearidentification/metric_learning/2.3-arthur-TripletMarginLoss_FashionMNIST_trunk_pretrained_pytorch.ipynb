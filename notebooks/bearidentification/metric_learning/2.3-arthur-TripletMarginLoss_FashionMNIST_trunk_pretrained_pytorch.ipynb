version https://git-lfs.github.com/spec/v1
oid sha256:7da38eb3ddecea3adf98d87418d1036e57f359c7b039a431f3f4801170dc3f77
size 1993800
