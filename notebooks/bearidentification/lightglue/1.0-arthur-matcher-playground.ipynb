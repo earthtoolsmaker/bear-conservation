version https://git-lfs.github.com/spec/v1
oid sha256:17a99866d3786ce18c6d573db49e6d6acfdbbd0125209ffd54c03522760fdfeb
size 2747947
