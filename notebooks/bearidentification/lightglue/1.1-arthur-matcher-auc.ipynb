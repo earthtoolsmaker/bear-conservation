version https://git-lfs.github.com/spec/v1
oid sha256:d74661eeabe4d31ac1a08e316ae08fabd139c024c0cf43f74da1b37398bb6914
size 5224159
