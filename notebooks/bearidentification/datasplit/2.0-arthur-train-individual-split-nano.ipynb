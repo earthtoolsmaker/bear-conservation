version https://git-lfs.github.com/spec/v1
oid sha256:da650ba923b165eed5e21584ecd35d7a9ff26d7db50d7b8a4d15878e938865b2
size 1105051
