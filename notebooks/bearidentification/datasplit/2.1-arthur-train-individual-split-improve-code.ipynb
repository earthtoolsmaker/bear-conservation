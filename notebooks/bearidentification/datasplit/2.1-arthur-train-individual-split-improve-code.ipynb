version https://git-lfs.github.com/spec/v1
oid sha256:7c561546c3c019ed5d232efa45792622caa26b2b960da34197ffcb97c4e41c4d
size 916722
