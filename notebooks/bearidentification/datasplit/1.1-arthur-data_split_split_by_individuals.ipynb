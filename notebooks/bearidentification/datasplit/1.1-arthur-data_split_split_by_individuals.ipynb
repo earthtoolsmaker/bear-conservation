version https://git-lfs.github.com/spec/v1
oid sha256:a3342a84e6009a8e73b8ce8a3030d23f12b1d55862ece9d4f0946e691bb7c1d5
size 1892126
