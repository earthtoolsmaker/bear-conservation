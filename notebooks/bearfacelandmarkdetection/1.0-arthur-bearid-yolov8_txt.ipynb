version https://git-lfs.github.com/spec/v1
oid sha256:cff2952e4a6f446f2eb9a47e7be0aa557f4ec09e7cc2e7f54f22cf866713730a
size 796677
