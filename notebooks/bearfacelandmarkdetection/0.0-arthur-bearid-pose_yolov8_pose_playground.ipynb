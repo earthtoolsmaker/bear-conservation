version https://git-lfs.github.com/spec/v1
oid sha256:866ce9f4fd7eea424ff5e502ac61165aa0aba8504b0b5c0c70e7d08378d01519
size 1920564
