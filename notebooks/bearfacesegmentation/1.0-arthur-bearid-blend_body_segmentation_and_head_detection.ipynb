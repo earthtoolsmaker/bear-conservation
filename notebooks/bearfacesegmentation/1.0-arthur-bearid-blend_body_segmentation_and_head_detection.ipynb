version https://git-lfs.github.com/spec/v1
oid sha256:0626ba3917ee719eb732cb45e50f525736c215055474b91d12e51bd034aedd77
size 1312355
