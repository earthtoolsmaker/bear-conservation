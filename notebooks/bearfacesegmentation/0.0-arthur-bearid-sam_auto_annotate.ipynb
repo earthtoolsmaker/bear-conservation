version https://git-lfs.github.com/spec/v1
oid sha256:9d68a536772efa339e1efe8f3c479369666dd809f794219c9250098dbe81be72
size 5800
