version https://git-lfs.github.com/spec/v1
oid sha256:45acda7089c8dae603e404d030043e8ddfc1f04b2b1b28f297a84ff40281bcc2
size 524746
