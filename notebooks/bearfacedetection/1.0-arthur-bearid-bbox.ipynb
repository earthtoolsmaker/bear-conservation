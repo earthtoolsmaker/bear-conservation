version https://git-lfs.github.com/spec/v1
oid sha256:777a7019d8a86d4e8556b03bedeab0af3f0508948153048f37a4a9e90610c07f
size 2945809
