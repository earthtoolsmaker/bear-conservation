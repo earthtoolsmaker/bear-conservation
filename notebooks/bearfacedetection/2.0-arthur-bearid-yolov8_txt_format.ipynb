version https://git-lfs.github.com/spec/v1
oid sha256:4d1a65e22b8553fb320d5c2aa3291d7092c2450aebbbc63087914d747437b67a
size 9777
