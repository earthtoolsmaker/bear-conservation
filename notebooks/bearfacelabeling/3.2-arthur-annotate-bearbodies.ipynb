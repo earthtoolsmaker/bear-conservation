version https://git-lfs.github.com/spec/v1
oid sha256:00b47524826b1d2ea86c4ad0a7d816e4042cbec071e879b245cffd5fba7bf79c
size 878589
