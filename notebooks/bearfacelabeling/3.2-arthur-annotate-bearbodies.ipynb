version https://git-lfs.github.com/spec/v1
oid sha256:a22eace85ac3f8242237b687bcbc80bd1f09b9a72c15c62e899f944d34b58531
size 220273
