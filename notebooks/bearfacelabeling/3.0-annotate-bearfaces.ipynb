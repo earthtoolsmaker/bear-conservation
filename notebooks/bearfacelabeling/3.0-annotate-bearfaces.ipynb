version https://git-lfs.github.com/spec/v1
oid sha256:94dac31376d47f8a6e678bf7277bf8e3705bf350561825108bd0d3561e643ba8
size 2990293
