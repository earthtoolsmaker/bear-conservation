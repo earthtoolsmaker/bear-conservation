version https://git-lfs.github.com/spec/v1
oid sha256:617cafc4d96fce6f2bdcd7edf706d0a91de4c0d304e58837133d3abacfe26bc2
size 174733
