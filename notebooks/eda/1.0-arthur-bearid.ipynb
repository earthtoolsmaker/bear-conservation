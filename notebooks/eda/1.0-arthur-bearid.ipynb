version https://git-lfs.github.com/spec/v1
oid sha256:c2e6d3f01d88f80b30ee030f8e577c5071a248a599460e7620e60f6f83cb9efc
size 198996
