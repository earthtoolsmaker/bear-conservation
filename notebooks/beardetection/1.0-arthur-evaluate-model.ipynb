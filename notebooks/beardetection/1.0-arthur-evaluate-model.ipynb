version https://git-lfs.github.com/spec/v1
oid sha256:3fd045d541aa5fa4bc8ace6e4e2d5b2ba5e74e8b60b5f8cdbcd43687cc97e3b4
size 35912
