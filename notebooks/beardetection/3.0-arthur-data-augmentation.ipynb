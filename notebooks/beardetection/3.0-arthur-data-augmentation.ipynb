version https://git-lfs.github.com/spec/v1
oid sha256:bcb2f984a4c665c075d18ef16352c9056141b7db8e3a29dc48e15b361543ff97
size 800023
